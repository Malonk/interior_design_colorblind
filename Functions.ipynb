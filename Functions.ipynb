{
 "cells": [
  {
   "cell_type": "code",
   "execution_count": 31,
   "metadata": {},
   "outputs": [],
   "source": [
    "import numpy as np\n",
    "import pandas as pd\n",
    "\n",
    "import matplotlib\n",
    "import matplotlib.pyplot as plt\n",
    "from matplotlib.colors import rgb2hex\n",
    "from mpl_toolkits.mplot3d import Axes3D\n",
    "from matplotlib import colors as mcolors\n",
    "\n",
    "%matplotlib inline\n",
    "import seaborn as sns\n",
    "sns.set_style(\"white\")\n",
    "import plotly\n",
    "import plotly.graph_objs as go\n",
    "\n",
    "import webcolors\n",
    "from colorharmonies import Color, complementaryColor, triadicColor, splitComplementaryColor, tetradicColor, analogousColor, monochromaticColor\n",
    "\n",
    "import cv2 #openCV library\n",
    "\n",
    "from sklearn.cluster import KMeans\n",
    "#from sklearn.model_selection import train_test_split\n",
    "#from sklearn.linear_model import LogisticRegression\n",
    "from sklearn.metrics import balanced_accuracy_score\n",
    "from sklearn.neighbors import NearestNeighbors\n",
    "\n",
    "#pd.set_option(\"display.max_rows\", None)"
   ]
  },
  {
   "cell_type": "code",
   "execution_count": null,
   "metadata": {},
   "outputs": [],
   "source": []
  },
  {
   "cell_type": "code",
   "execution_count": null,
   "metadata": {},
   "outputs": [],
   "source": []
  },
  {
   "cell_type": "markdown",
   "metadata": {},
   "source": [
    "# Add - plt.axis('off') - for photo plotting"
   ]
  },
  {
   "cell_type": "code",
   "execution_count": null,
   "metadata": {},
   "outputs": [],
   "source": []
  },
  {
   "cell_type": "markdown",
   "metadata": {},
   "source": [
    "# functions"
   ]
  },
  {
   "cell_type": "markdown",
   "metadata": {},
   "source": [
    "### import photo OpenCV"
   ]
  },
  {
   "cell_type": "code",
   "execution_count": 14,
   "metadata": {},
   "outputs": [],
   "source": [
    "def import_photo(name:str): #defines what type to input\n",
    "    interior_photo_1 = cv2.imread(f\"images/{name}.jpg\")\n",
    "    interior_photo_1 = cv2.cvtColor(interior_photo_1, cv2.COLOR_BGR2RGB)\n",
    "    return interior_photo_1 #the 3d nparray"
   ]
  },
  {
   "cell_type": "code",
   "execution_count": null,
   "metadata": {},
   "outputs": [],
   "source": []
  },
  {
   "cell_type": "markdown",
   "metadata": {},
   "source": [
    "### plot photo (show photo)"
   ]
  },
  {
   "cell_type": "code",
   "execution_count": null,
   "metadata": {},
   "outputs": [],
   "source": [
    "# can call show_photo(import_photo) to show photo imported in def import_photo\n",
    "\n",
    "def show_photo(import_photo):\n",
    "    plt.axis('off')\n",
    "    plt.imshow(interior_photo_1)"
   ]
  },
  {
   "cell_type": "code",
   "execution_count": null,
   "metadata": {},
   "outputs": [],
   "source": [
    "# interior_photo_2d = interior_photo_1.reshape((-1,3)) #transform into 2d nparry"
   ]
  },
  {
   "cell_type": "markdown",
   "metadata": {},
   "source": [
    "### elbow plot to check optimal amount of clusters"
   ]
  },
  {
   "cell_type": "code",
   "execution_count": 2,
   "metadata": {},
   "outputs": [],
   "source": [
    "# interior_photo_1_df = pd.DataFrame(data=interior_photo_2d, columns=[\"Red\", \"Green\", \"Blue\"]) --SAME as X\n",
    "# X = interior_photo_1_df[[\"Red\", \"Green\", \"Blue\"]] - the RGB values of the imported photo\n",
    "\n",
    "def plot_elbow(X):\n",
    "    inertias = {}   \n",
    "    for k in range(1,15):\n",
    "        cl = KMeans(n_clusters=k).fit(X)\n",
    "        inertias[k] = cl.inertia_\n",
    "    plt.figure(figsize=(10,6))\n",
    "    sns.lineplot(x=list(inertias.keys()),\n",
    "                 y=list(inertias.values()));\n",
    "    plt.title(\"Optimal number of clusters\");"
   ]
  },
  {
   "cell_type": "code",
   "execution_count": null,
   "metadata": {},
   "outputs": [],
   "source": []
  },
  {
   "cell_type": "markdown",
   "metadata": {},
   "source": [
    "### Kmeans with OpenCV and define amount of clusters + show clusters in photo"
   ]
  },
  {
   "cell_type": "code",
   "execution_count": null,
   "metadata": {},
   "outputs": [],
   "source": [
    "def clusters_photo(name:str, K=5): #input \"name of photo\" and amount of clusters\n",
    "    interior_photo_1 = import_photo(name) #call import_photo function\n",
    "    pixels = interior_photo_1.reshape((-1,3))\n",
    "\n",
    "    # convert to np.float32\n",
    "    pixels = np.float32(pixels)\n",
    "\n",
    "    # define criteria, number of clusters(K) and apply kmeans()\n",
    "    criteria = (cv2.TERM_CRITERIA_EPS + cv2.TERM_CRITERIA_MAX_ITER, 10, 1.0)\n",
    "    #K = 5 \n",
    "    ret,label,center=cv2.kmeans(pixels,K,None,criteria,10,cv2.KMEANS_RANDOM_CENTERS)\n",
    "\n",
    "    # Now convert back into uint8, and make original image\n",
    "    center = np.uint8(center)\n",
    "    res = center[label.flatten()]\n",
    "    res = res.reshape((interior_photo_1.shape))\n",
    "    \n",
    "    plt.axis('off')\n",
    "    plt.imshow(res)\n",
    "    plt.show()"
   ]
  },
  {
   "cell_type": "code",
   "execution_count": null,
   "metadata": {},
   "outputs": [],
   "source": []
  },
  {
   "cell_type": "markdown",
   "metadata": {},
   "source": [
    "### prepare photo data for plotting"
   ]
  },
  {
   "cell_type": "code",
   "execution_count": 30,
   "metadata": {},
   "outputs": [],
   "source": [
    "def df_preparation(name, K=5):\n",
    "    \n",
    "    open_image = import_photo(name)\n",
    "\n",
    "    #convert from 3darry to 2darry   \n",
    "    interior_photo_2d = open_image.reshape((-1,3)) \n",
    "\n",
    "    #create DF with RGB columns\n",
    "    interior_photo_1_df = pd.DataFrame(data=interior_photo_2d, columns=[\"Red\", \"Green\", \"Blue\"]) #create dataframe\n",
    "\n",
    "    #fit kmeans model\n",
    "    X = interior_photo_1_df[[\"Red\", \"Green\", \"Blue\"]] ###SAME AS interior_photo_1_df\n",
    "    clusters = KMeans(K) #have to define the amount of clusters already before\n",
    "    clusters.fit(X)\n",
    "    \n",
    "    #add fitted clusters as new column to DF\n",
    "    X_clusters = X.assign(cluster=clusters.predict(X)) #add column with the clusters\n",
    "\n",
    "    return X_clusters"
   ]
  },
  {
   "cell_type": "code",
   "execution_count": null,
   "metadata": {},
   "outputs": [],
   "source": []
  },
  {
   "cell_type": "markdown",
   "metadata": {},
   "source": [
    "### plot clusters in 3d"
   ]
  },
  {
   "cell_type": "code",
   "execution_count": 3,
   "metadata": {},
   "outputs": [],
   "source": [
    "def clusters_3d(name, K): #able to plot on prepared DF (+ input amount of clusters)\n",
    "    X_clusters = df_preparation(name, K)\n",
    "    fig = plt.figure()\n",
    "    ax = fig.add_subplot(111, projection='3d')\n",
    "    r = np.array(X_clusters[\"Red\"])\n",
    "    g = np.array(X_clusters[\"Green\"])\n",
    "    b = np.array(X_clusters[\"Blue\"])\n",
    "    \n",
    "    ax.scatter(r,g,b, marker=\"s\", c=X_clusters[\"cluster\"], s=40, cmap=\"RdBu\")\n",
    "\n",
    "    plt.show()\n",
    "\n",
    "    print(f\"Inertia: {clusters.inertia_}\")"
   ]
  },
  {
   "cell_type": "code",
   "execution_count": null,
   "metadata": {},
   "outputs": [],
   "source": []
  },
  {
   "cell_type": "markdown",
   "metadata": {},
   "source": [
    "### create cluster labels - not working yet"
   ]
  },
  {
   "cell_type": "code",
   "execution_count": null,
   "metadata": {},
   "outputs": [],
   "source": [
    "#to do\n",
    "\n",
    "def cluster_labels():\n",
    "    X = interior_photo_1_df[[\"Red\", \"Green\", \"Blue\"]]\n",
    "    clusters = KMeans(n_clusters=5)\n",
    "    clusters.fit(X)\n",
    "    return clusters.labels_\n",
    "\n",
    "\n",
    "\n",
    "\n",
    "# says it wont print it because too much data and might crash\n",
    "# however before it was returning: [1 1 1 ... 0 0 0]\n",
    "\n",
    "X = interior_photo_1_df[[\"Red\", \"Green\", \"Blue\"]]\n",
    "clusters = KMeans(n_clusters=5)\n",
    "clusters.fit(X)\n",
    "labels = clusters.labels_\n",
    "labels = list(labels)\n",
    "print(labels)\n",
    "----------------\n",
    "\n",
    "# returns [0 0 0 ... 4 4 4]\n",
    "\n",
    "X = interior_photo_1_df[[\"Red\", \"Green\", \"Blue\"]]\n",
    "clusters = KMeans(n_clusters=5)\n",
    "clusters.fit(X)\n",
    "print(clusters.labels_)\n",
    "----------------\n",
    "\n",
    "# are they the same?\n",
    "# list(clusters.labels_) == list(labels) TRUE\n",
    "# list(clusters.labels_) != list(labels) FALSE"
   ]
  },
  {
   "cell_type": "code",
   "execution_count": null,
   "metadata": {},
   "outputs": [],
   "source": []
  },
  {
   "cell_type": "markdown",
   "metadata": {},
   "source": [
    "### get centroids - not working yet"
   ]
  },
  {
   "cell_type": "code",
   "execution_count": null,
   "metadata": {},
   "outputs": [],
   "source": [
    "#to do\n",
    "# 5 clusters, 5 lists of centroids\n",
    "\n",
    "centroids = clusters.cluster_centers_\n",
    "print(centroids)\n",
    "\n",
    "def get_centroids(): #not sure what to input\n",
    "    centroids = clusters.cluster_centers_\n",
    "    return centroids"
   ]
  },
  {
   "cell_type": "code",
   "execution_count": null,
   "metadata": {},
   "outputs": [],
   "source": []
  },
  {
   "cell_type": "markdown",
   "metadata": {},
   "source": [
    "### percentages - not working yet"
   ]
  },
  {
   "cell_type": "code",
   "execution_count": null,
   "metadata": {},
   "outputs": [],
   "source": [
    "def get_percentage(centroids): \n",
    "    percent=[]\n",
    "    for i in range(len(centroids)):\n",
    "        labels = list(labels)\n",
    "        j=labels.count(i)\n",
    "        j=j/(len(labels))\n",
    "        percent.append(j)\n",
    "    return percent\n",
    "\n",
    "#error: local variable 'labels' referenced before assignment"
   ]
  },
  {
   "cell_type": "code",
   "execution_count": null,
   "metadata": {},
   "outputs": [],
   "source": []
  },
  {
   "cell_type": "markdown",
   "metadata": {},
   "source": [
    "### pie chart"
   ]
  },
  {
   "cell_type": "code",
   "execution_count": null,
   "metadata": {},
   "outputs": [],
   "source": [
    "def plot_pie(centroids):\n",
    "    plt.pie(percent,colors=np.array(centroids/255),labels=np.arange(len(centroids)))\n",
    "    plt.show()"
   ]
  },
  {
   "cell_type": "code",
   "execution_count": null,
   "metadata": {},
   "outputs": [],
   "source": []
  },
  {
   "cell_type": "markdown",
   "metadata": {},
   "source": [
    "### RGB to HEX - is this necessary?"
   ]
  },
  {
   "cell_type": "code",
   "execution_count": null,
   "metadata": {},
   "outputs": [],
   "source": [
    "from matplotlib.colors import rgb2hex\n",
    "\n",
    "[rgb2hex((centroids/255)[i,:]) for i in range(len(centroids/255))]\n",
    "\n",
    "#hex_code = [rgb2hex((centroids/255)[i,:]) for i in range(len(centroids/255))]\n",
    "\n",
    "#RGBA values should be within 0-1 range : centroids / 255 which is RGB value\n",
    "\n",
    "#double checking https://www.rapidtables.com/convert/color/hex-to-rgb.html\n",
    "\n"
   ]
  },
  {
   "cell_type": "code",
   "execution_count": null,
   "metadata": {},
   "outputs": [],
   "source": []
  },
  {
   "cell_type": "markdown",
   "metadata": {},
   "source": [
    "### Get color name"
   ]
  },
  {
   "cell_type": "code",
   "execution_count": null,
   "metadata": {},
   "outputs": [],
   "source": [
    "#https://stackoverflow.com/questions/9694165/convert-rgb-color-to-english-color-name-like-green-with-python\n",
    "#https://pypi.org/project/webcolors/1.3/\n",
    "\n",
    "def closest_colour2(requested_colour): #input RGB tuple. type of webcolors is dict_items()\n",
    "    min_colours = {}\n",
    "    for key, name in hex_dict.items(): #hex to rgb\n",
    "        r, g, b = webcolors.hex_to_rgb(key) #works for any transformation\n",
    "        red = (r - requested_colour[0]) ** 2 #kind of KNN but manually\n",
    "        green = (g - requested_colour[1]) ** 2\n",
    "        blue = (b - requested_colour[2]) ** 2\n",
    "        min_colours[(red + green + blue)] = name #key rgb, value name\n",
    "    return min_colours[min(min_colours.keys())] #find minimum distance to color\n",
    "\n",
    "def get_colour_name2(requested_colour):\n",
    "    rgb_to_hex = webcolors.rgb_to_hex(requested_colour)\n",
    "    try:\n",
    "        closest_name = actual_name = hex_dict[rgb_to_hex] #triyng to find the acutal name in list\n",
    "    except KeyError:\n",
    "        closest_name = closest_colour2(requested_colour) #name with minimum distance\n",
    "        actual_name = None\n",
    "    return actual_name, closest_name\n",
    "\n",
    "requested_colour = (33, 171, 205) #from centroids\n",
    "actual_name, closest_name = get_colour_name2(requested_colour)\n",
    "\n",
    "print(\"Actual colour name:\", actual_name, \", closest colour name:\", closest_name)"
   ]
  },
  {
   "cell_type": "code",
   "execution_count": null,
   "metadata": {},
   "outputs": [],
   "source": []
  },
  {
   "cell_type": "markdown",
   "metadata": {},
   "source": [
    "### Complimentary color"
   ]
  },
  {
   "cell_type": "code",
   "execution_count": null,
   "metadata": {},
   "outputs": [],
   "source": [
    "#https://github.com/baptistemanteau/colorharmonies\n",
    "\n",
    "# from library, building blocks:\n",
    "# 1. input R G B values from centroid \n",
    "# 2. return R G B values of opposite\n",
    "# 3. find color name or closest one\n",
    "# 4. display color\n",
    "\n",
    "def complementary_color():\n",
    "    brown1 = Color([130, 87, 55],\"\",\"\")\n",
    "    return complementaryColor(brown1)\n",
    "\n",
    "\n",
    "\n"
   ]
  }
 ],
 "metadata": {
  "kernelspec": {
   "display_name": "Python 3",
   "language": "python",
   "name": "python3"
  },
  "language_info": {
   "codemirror_mode": {
    "name": "ipython",
    "version": 3
   },
   "file_extension": ".py",
   "mimetype": "text/x-python",
   "name": "python",
   "nbconvert_exporter": "python",
   "pygments_lexer": "ipython3",
   "version": "3.7.9"
  }
 },
 "nbformat": 4,
 "nbformat_minor": 4
}
